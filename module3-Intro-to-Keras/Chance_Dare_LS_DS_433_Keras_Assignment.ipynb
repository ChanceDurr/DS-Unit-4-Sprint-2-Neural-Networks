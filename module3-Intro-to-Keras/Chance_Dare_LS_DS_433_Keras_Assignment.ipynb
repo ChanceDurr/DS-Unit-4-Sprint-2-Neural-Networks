{
  "nbformat": 4,
  "nbformat_minor": 0,
  "metadata": {
    "colab": {
      "name": "Chance Dare LS_DS_433_Keras_Assignment.ipynb",
      "version": "0.3.2",
      "provenance": [],
      "include_colab_link": true
    },
    "kernelspec": {
      "display_name": "Python 3",
      "language": "python",
      "name": "python3"
    },
    "language_info": {
      "codemirror_mode": {
        "name": "ipython",
        "version": 3
      },
      "file_extension": ".py",
      "mimetype": "text/x-python",
      "name": "python",
      "nbconvert_exporter": "python",
      "pygments_lexer": "ipython3",
      "version": "3.7.3"
    }
  },
  "cells": [
    {
      "cell_type": "markdown",
      "metadata": {
        "id": "view-in-github",
        "colab_type": "text"
      },
      "source": [
        "<a href=\"https://colab.research.google.com/github/ChanceDurr/DS-Unit-4-Sprint-2-Neural-Networks/blob/master/module3-Intro-to-Keras/Chance_Dare_LS_DS_433_Keras_Assignment.ipynb\" target=\"_parent\"><img src=\"https://colab.research.google.com/assets/colab-badge.svg\" alt=\"Open In Colab\"/></a>"
      ]
    },
    {
      "cell_type": "markdown",
      "metadata": {
        "colab_type": "text",
        "id": "pBQsZEJmubLs"
      },
      "source": [
        "<img align=\"left\" src=\"https://lever-client-logos.s3.amazonaws.com/864372b1-534c-480e-acd5-9711f850815c-1524247202159.png\" width=200>\n",
        "<br></br>\n",
        "\n",
        "# Neural Network Framework (Keras)\n",
        "\n",
        "## *Data Science Unit 4 Sprint 2 Assignmnet 3*\n",
        "\n",
        "## Use the Keras Library to build a Multi-Layer Perceptron Model on the Boston Housing dataset\n",
        "\n",
        "- The Boston Housing dataset comes with the Keras library so use Keras to import it into your notebook. \n",
        "- Normalize the data (all features should have roughly the same scale)\n",
        "- Import the type of model and layers that you will need from Keras.\n",
        "- Instantiate a model object and use `model.add()` to add layers to your model\n",
        "- Since this is a regression model you will have a single output node in the final layer.\n",
        "- Use activation functions that are appropriate for this task\n",
        "- Compile your model\n",
        "- Fit your model and report its accuracy in terms of Mean Squared Error\n",
        "- Use the history object that is returned from model.fit to make graphs of the model's loss or train/validation accuracies by epoch. \n",
        "- Run this same data through a linear regression model. Which achieves higher accuracy?\n",
        "- Do a little bit of feature engineering and see how that affects your neural network model. (you will need to change your model to accept more inputs)\n",
        "- After feature engineering, which model sees a greater accuracy boost due to the new features?"
      ]
    },
    {
      "cell_type": "code",
      "metadata": {
        "colab_type": "code",
        "id": "8NLTAR87uYJ-",
        "colab": {
          "base_uri": "https://localhost:8080/",
          "height": 34
        },
        "outputId": "145be26d-a5f0-4444-8511-78ed7f406e8f"
      },
      "source": [
        "import pandas as pd\n",
        "import numpy as np\n",
        "import tensorflow\n",
        "from tensorflow.keras.models import Sequential\n",
        "from tensorflow.keras.layers import Dense, Dropout\n",
        "from keras.datasets import boston_housing\n",
        "from keras import metrics\n",
        "from sklearn.metrics import mean_squared_error\n",
        "from sklearn.preprocessing import normalize\n",
        "tensorflow.__version__"
      ],
      "execution_count": 645,
      "outputs": [
        {
          "output_type": "execute_result",
          "data": {
            "text/plain": [
              "'1.14.0'"
            ]
          },
          "metadata": {
            "tags": []
          },
          "execution_count": 645
        }
      ]
    },
    {
      "cell_type": "code",
      "metadata": {
        "id": "VZvTSXADLilU",
        "colab_type": "code",
        "colab": {}
      },
      "source": [
        "train, test = boston_housing.load_data(path='boston_housing.npz', test_split=0.2, seed=47)"
      ],
      "execution_count": 0,
      "outputs": []
    },
    {
      "cell_type": "code",
      "metadata": {
        "id": "dMubNteCL0_N",
        "colab_type": "code",
        "colab": {}
      },
      "source": [
        "X_train = normalize(train[0])\n",
        "y_train = train[1]\n",
        "X_test = normalize(test[0])\n",
        "y_test = test[1]"
      ],
      "execution_count": 0,
      "outputs": []
    },
    {
      "cell_type": "code",
      "metadata": {
        "id": "c7AIsdLbln_T",
        "colab_type": "code",
        "colab": {
          "base_uri": "https://localhost:8080/",
          "height": 238
        },
        "outputId": "f7cf7c46-f4b1-4957-96d7-ca501bb7c098"
      },
      "source": [
        "train[0]"
      ],
      "execution_count": 648,
      "outputs": [
        {
          "output_type": "execute_result",
          "data": {
            "text/plain": [
              "array([[1.06590e-01, 8.00000e+01, 1.91000e+00, ..., 2.20000e+01,\n",
              "        3.76040e+02, 5.57000e+00],\n",
              "       [1.43200e-02, 1.00000e+02, 1.32000e+00, ..., 1.51000e+01,\n",
              "        3.92900e+02, 3.95000e+00],\n",
              "       [2.92400e+00, 0.00000e+00, 1.95800e+01, ..., 1.47000e+01,\n",
              "        2.40160e+02, 9.81000e+00],\n",
              "       ...,\n",
              "       [5.37000e-01, 0.00000e+00, 6.20000e+00, ..., 1.74000e+01,\n",
              "        3.78350e+02, 1.16500e+01],\n",
              "       [7.67202e+00, 0.00000e+00, 1.81000e+01, ..., 2.02000e+01,\n",
              "        3.93100e+02, 1.99200e+01],\n",
              "       [5.05900e-02, 0.00000e+00, 4.49000e+00, ..., 1.85000e+01,\n",
              "        3.96900e+02, 9.62000e+00]])"
            ]
          },
          "metadata": {
            "tags": []
          },
          "execution_count": 648
        }
      ]
    },
    {
      "cell_type": "code",
      "metadata": {
        "id": "l7MytE4IMX5K",
        "colab_type": "code",
        "colab": {}
      },
      "source": [
        "model = Sequential()"
      ],
      "execution_count": 0,
      "outputs": []
    },
    {
      "cell_type": "code",
      "metadata": {
        "id": "VdESVjBLkxbp",
        "colab_type": "code",
        "colab": {
          "base_uri": "https://localhost:8080/",
          "height": 238
        },
        "outputId": "0176e08c-36b2-4059-d045-02d5b54d535e"
      },
      "source": [
        "X_train"
      ],
      "execution_count": 650,
      "outputs": [
        {
          "output_type": "execute_result",
          "data": {
            "text/plain": [
              "array([[2.08869756e-04, 1.56764992e-01, 3.74276418e-03, ...,\n",
              "        4.31103728e-02, 7.36873845e-01, 1.09147626e-02],\n",
              "       [2.97345792e-05, 2.07643710e-01, 2.74089697e-03, ...,\n",
              "        3.13542002e-02, 8.15832136e-01, 8.20192654e-03],\n",
              "       [6.10350794e-03, 0.00000000e+00, 4.08709594e-02, ...,\n",
              "        3.06845303e-02, 5.01305905e-01, 2.04772274e-02],\n",
              "       ...,\n",
              "       [1.09019848e-03, 0.00000000e+00, 1.25870216e-02, ...,\n",
              "        3.53248669e-02, 7.68112839e-01, 2.36514195e-02],\n",
              "       [9.82568676e-03, 0.00000000e+00, 2.31809785e-02, ...,\n",
              "        2.58704842e-02, 5.03449869e-01, 2.55118835e-02],\n",
              "       [1.07523867e-04, 0.00000000e+00, 9.54303543e-03, ...,\n",
              "        3.93198564e-02, 8.43570325e-01, 2.04463253e-02]])"
            ]
          },
          "metadata": {
            "tags": []
          },
          "execution_count": 650
        }
      ]
    },
    {
      "cell_type": "code",
      "metadata": {
        "id": "UC_8iFhqMahd",
        "colab_type": "code",
        "colab": {}
      },
      "source": [
        "# Input layer\n",
        "model.add(Dense(1, input_dim=13, activation='linear'))\n",
        "\n",
        "# Hidden Layer\n",
        "# model.add(Dense(16, activation='linear'))\n",
        "\n",
        "# # Hidden Layer\n",
        "# model.add(Dense(16, activation='linear'))\n",
        "\n",
        "# # Hidden Layer\n",
        "# model.add(Dense(10, activation='linear'))"
      ],
      "execution_count": 0,
      "outputs": []
    },
    {
      "cell_type": "code",
      "metadata": {
        "id": "OVqROJRNNucj",
        "colab_type": "code",
        "colab": {}
      },
      "source": [
        "model.compile(loss='mean_squared_error', optimizer='adam', metrics=['accuracy'])"
      ],
      "execution_count": 0,
      "outputs": []
    },
    {
      "cell_type": "code",
      "metadata": {
        "id": "_99JigAyPOqk",
        "colab_type": "code",
        "colab": {
          "base_uri": "https://localhost:8080/",
          "height": 1000
        },
        "outputId": "074e02bd-69ec-4454-ab07-34b06fae1a20"
      },
      "source": [
        "model.fit(X_train, y_train, epochs=150)"
      ],
      "execution_count": 653,
      "outputs": [
        {
          "output_type": "stream",
          "text": [
            "Epoch 1/150\n",
            "404/404 [==============================] - 0s 463us/sample - loss: 561.0063 - acc: 0.0000e+00\n",
            "Epoch 2/150\n",
            "404/404 [==============================] - 0s 46us/sample - loss: 559.5066 - acc: 0.0000e+00\n",
            "Epoch 3/150\n",
            "404/404 [==============================] - 0s 49us/sample - loss: 558.0426 - acc: 0.0000e+00\n",
            "Epoch 4/150\n",
            "404/404 [==============================] - 0s 48us/sample - loss: 556.5396 - acc: 0.0000e+00\n",
            "Epoch 5/150\n",
            "404/404 [==============================] - 0s 48us/sample - loss: 555.0860 - acc: 0.0000e+00\n",
            "Epoch 6/150\n",
            "404/404 [==============================] - 0s 51us/sample - loss: 553.5978 - acc: 0.0000e+00\n",
            "Epoch 7/150\n",
            "404/404 [==============================] - 0s 48us/sample - loss: 552.1254 - acc: 0.0000e+00\n",
            "Epoch 8/150\n",
            "404/404 [==============================] - 0s 60us/sample - loss: 550.6649 - acc: 0.0000e+00\n",
            "Epoch 9/150\n",
            "404/404 [==============================] - 0s 80us/sample - loss: 549.1986 - acc: 0.0000e+00\n",
            "Epoch 10/150\n",
            "404/404 [==============================] - 0s 47us/sample - loss: 547.7271 - acc: 0.0000e+00\n",
            "Epoch 11/150\n",
            "404/404 [==============================] - 0s 49us/sample - loss: 546.2732 - acc: 0.0000e+00\n",
            "Epoch 12/150\n",
            "404/404 [==============================] - 0s 53us/sample - loss: 544.8172 - acc: 0.0000e+00\n",
            "Epoch 13/150\n",
            "404/404 [==============================] - 0s 49us/sample - loss: 543.3679 - acc: 0.0000e+00\n",
            "Epoch 14/150\n",
            "404/404 [==============================] - 0s 47us/sample - loss: 541.9056 - acc: 0.0000e+00\n",
            "Epoch 15/150\n",
            "404/404 [==============================] - 0s 43us/sample - loss: 540.4708 - acc: 0.0000e+00\n",
            "Epoch 16/150\n",
            "404/404 [==============================] - 0s 54us/sample - loss: 539.0247 - acc: 0.0000e+00\n",
            "Epoch 17/150\n",
            "404/404 [==============================] - 0s 63us/sample - loss: 537.5979 - acc: 0.0000e+00\n",
            "Epoch 18/150\n",
            "404/404 [==============================] - 0s 41us/sample - loss: 536.1595 - acc: 0.0000e+00\n",
            "Epoch 19/150\n",
            "404/404 [==============================] - 0s 44us/sample - loss: 534.7234 - acc: 0.0000e+00\n",
            "Epoch 20/150\n",
            "404/404 [==============================] - 0s 40us/sample - loss: 533.2951 - acc: 0.0000e+00\n",
            "Epoch 21/150\n",
            "404/404 [==============================] - 0s 42us/sample - loss: 531.8601 - acc: 0.0000e+00\n",
            "Epoch 22/150\n",
            "404/404 [==============================] - 0s 50us/sample - loss: 530.4416 - acc: 0.0000e+00\n",
            "Epoch 23/150\n",
            "404/404 [==============================] - 0s 46us/sample - loss: 529.0246 - acc: 0.0000e+00\n",
            "Epoch 24/150\n",
            "404/404 [==============================] - 0s 49us/sample - loss: 527.6018 - acc: 0.0000e+00\n",
            "Epoch 25/150\n",
            "404/404 [==============================] - 0s 44us/sample - loss: 526.1956 - acc: 0.0000e+00\n",
            "Epoch 26/150\n",
            "404/404 [==============================] - 0s 43us/sample - loss: 524.7943 - acc: 0.0000e+00\n",
            "Epoch 27/150\n",
            "404/404 [==============================] - 0s 60us/sample - loss: 523.3937 - acc: 0.0000e+00\n",
            "Epoch 28/150\n",
            "404/404 [==============================] - 0s 54us/sample - loss: 521.9803 - acc: 0.0000e+00\n",
            "Epoch 29/150\n",
            "404/404 [==============================] - 0s 50us/sample - loss: 520.5943 - acc: 0.0000e+00\n",
            "Epoch 30/150\n",
            "404/404 [==============================] - 0s 47us/sample - loss: 519.1941 - acc: 0.0000e+00\n",
            "Epoch 31/150\n",
            "404/404 [==============================] - 0s 52us/sample - loss: 517.8083 - acc: 0.0000e+00\n",
            "Epoch 32/150\n",
            "404/404 [==============================] - 0s 42us/sample - loss: 516.4222 - acc: 0.0000e+00\n",
            "Epoch 33/150\n",
            "404/404 [==============================] - 0s 47us/sample - loss: 515.0314 - acc: 0.0000e+00\n",
            "Epoch 34/150\n",
            "404/404 [==============================] - 0s 48us/sample - loss: 513.6503 - acc: 0.0000e+00\n",
            "Epoch 35/150\n",
            "404/404 [==============================] - 0s 45us/sample - loss: 512.2721 - acc: 0.0000e+00\n",
            "Epoch 36/150\n",
            "404/404 [==============================] - 0s 57us/sample - loss: 510.8911 - acc: 0.0000e+00\n",
            "Epoch 37/150\n",
            "404/404 [==============================] - 0s 50us/sample - loss: 509.5240 - acc: 0.0000e+00\n",
            "Epoch 38/150\n",
            "404/404 [==============================] - 0s 60us/sample - loss: 508.1393 - acc: 0.0000e+00\n",
            "Epoch 39/150\n",
            "404/404 [==============================] - 0s 47us/sample - loss: 506.7772 - acc: 0.0000e+00\n",
            "Epoch 40/150\n",
            "404/404 [==============================] - 0s 51us/sample - loss: 505.4024 - acc: 0.0000e+00\n",
            "Epoch 41/150\n",
            "404/404 [==============================] - 0s 54us/sample - loss: 504.0489 - acc: 0.0000e+00\n",
            "Epoch 42/150\n",
            "404/404 [==============================] - 0s 64us/sample - loss: 502.6866 - acc: 0.0000e+00\n",
            "Epoch 43/150\n",
            "404/404 [==============================] - 0s 49us/sample - loss: 501.3347 - acc: 0.0000e+00\n",
            "Epoch 44/150\n",
            "404/404 [==============================] - 0s 49us/sample - loss: 499.9887 - acc: 0.0000e+00\n",
            "Epoch 45/150\n",
            "404/404 [==============================] - 0s 59us/sample - loss: 498.6356 - acc: 0.0000e+00\n",
            "Epoch 46/150\n",
            "404/404 [==============================] - 0s 58us/sample - loss: 497.2873 - acc: 0.0000e+00\n",
            "Epoch 47/150\n",
            "404/404 [==============================] - 0s 44us/sample - loss: 495.9436 - acc: 0.0000e+00\n",
            "Epoch 48/150\n",
            "404/404 [==============================] - 0s 46us/sample - loss: 494.6140 - acc: 0.0000e+00\n",
            "Epoch 49/150\n",
            "404/404 [==============================] - 0s 47us/sample - loss: 493.2766 - acc: 0.0000e+00\n",
            "Epoch 50/150\n",
            "404/404 [==============================] - 0s 53us/sample - loss: 491.9454 - acc: 0.0000e+00\n",
            "Epoch 51/150\n",
            "404/404 [==============================] - 0s 72us/sample - loss: 490.6094 - acc: 0.0000e+00\n",
            "Epoch 52/150\n",
            "404/404 [==============================] - 0s 51us/sample - loss: 489.2816 - acc: 0.0000e+00\n",
            "Epoch 53/150\n",
            "404/404 [==============================] - 0s 54us/sample - loss: 487.9506 - acc: 0.0000e+00\n",
            "Epoch 54/150\n",
            "404/404 [==============================] - 0s 42us/sample - loss: 486.6387 - acc: 0.0000e+00\n",
            "Epoch 55/150\n",
            "404/404 [==============================] - 0s 44us/sample - loss: 485.3124 - acc: 0.0000e+00\n",
            "Epoch 56/150\n",
            "404/404 [==============================] - 0s 54us/sample - loss: 484.0023 - acc: 0.0000e+00\n",
            "Epoch 57/150\n",
            "404/404 [==============================] - 0s 57us/sample - loss: 482.6900 - acc: 0.0000e+00\n",
            "Epoch 58/150\n",
            "404/404 [==============================] - 0s 48us/sample - loss: 481.3767 - acc: 0.0000e+00\n",
            "Epoch 59/150\n",
            "404/404 [==============================] - 0s 44us/sample - loss: 480.0742 - acc: 0.0000e+00\n",
            "Epoch 60/150\n",
            "404/404 [==============================] - 0s 48us/sample - loss: 478.7637 - acc: 0.0000e+00\n",
            "Epoch 61/150\n",
            "404/404 [==============================] - 0s 55us/sample - loss: 477.4654 - acc: 0.0000e+00\n",
            "Epoch 62/150\n",
            "404/404 [==============================] - 0s 52us/sample - loss: 476.1718 - acc: 0.0000e+00\n",
            "Epoch 63/150\n",
            "404/404 [==============================] - 0s 45us/sample - loss: 474.8745 - acc: 0.0000e+00\n",
            "Epoch 64/150\n",
            "404/404 [==============================] - 0s 50us/sample - loss: 473.5913 - acc: 0.0000e+00\n",
            "Epoch 65/150\n",
            "404/404 [==============================] - 0s 51us/sample - loss: 472.2882 - acc: 0.0000e+00\n",
            "Epoch 66/150\n",
            "404/404 [==============================] - 0s 51us/sample - loss: 470.9973 - acc: 0.0000e+00\n",
            "Epoch 67/150\n",
            "404/404 [==============================] - 0s 52us/sample - loss: 469.7220 - acc: 0.0000e+00\n",
            "Epoch 68/150\n",
            "404/404 [==============================] - 0s 47us/sample - loss: 468.4365 - acc: 0.0000e+00\n",
            "Epoch 69/150\n",
            "404/404 [==============================] - 0s 47us/sample - loss: 467.1640 - acc: 0.0000e+00\n",
            "Epoch 70/150\n",
            "404/404 [==============================] - 0s 48us/sample - loss: 465.8913 - acc: 0.0000e+00\n",
            "Epoch 71/150\n",
            "404/404 [==============================] - 0s 46us/sample - loss: 464.6219 - acc: 0.0000e+00\n",
            "Epoch 72/150\n",
            "404/404 [==============================] - 0s 44us/sample - loss: 463.3382 - acc: 0.0000e+00\n",
            "Epoch 73/150\n",
            "404/404 [==============================] - 0s 60us/sample - loss: 462.0823 - acc: 0.0000e+00\n",
            "Epoch 74/150\n",
            "404/404 [==============================] - 0s 49us/sample - loss: 460.8203 - acc: 0.0000e+00\n",
            "Epoch 75/150\n",
            "404/404 [==============================] - 0s 44us/sample - loss: 459.5516 - acc: 0.0000e+00\n",
            "Epoch 76/150\n",
            "404/404 [==============================] - 0s 48us/sample - loss: 458.2956 - acc: 0.0000e+00\n",
            "Epoch 77/150\n",
            "404/404 [==============================] - 0s 45us/sample - loss: 457.0387 - acc: 0.0000e+00\n",
            "Epoch 78/150\n",
            "404/404 [==============================] - 0s 46us/sample - loss: 455.7932 - acc: 0.0000e+00\n",
            "Epoch 79/150\n",
            "404/404 [==============================] - 0s 49us/sample - loss: 454.5357 - acc: 0.0000e+00\n",
            "Epoch 80/150\n",
            "404/404 [==============================] - 0s 44us/sample - loss: 453.2885 - acc: 0.0000e+00\n",
            "Epoch 81/150\n",
            "404/404 [==============================] - 0s 46us/sample - loss: 452.0542 - acc: 0.0000e+00\n",
            "Epoch 82/150\n",
            "404/404 [==============================] - 0s 48us/sample - loss: 450.8056 - acc: 0.0000e+00\n",
            "Epoch 83/150\n",
            "404/404 [==============================] - 0s 49us/sample - loss: 449.5738 - acc: 0.0000e+00\n",
            "Epoch 84/150\n",
            "404/404 [==============================] - 0s 45us/sample - loss: 448.3416 - acc: 0.0000e+00\n",
            "Epoch 85/150\n",
            "404/404 [==============================] - 0s 45us/sample - loss: 447.0990 - acc: 0.0000e+00\n",
            "Epoch 86/150\n",
            "404/404 [==============================] - 0s 43us/sample - loss: 445.8735 - acc: 0.0000e+00\n",
            "Epoch 87/150\n",
            "404/404 [==============================] - 0s 47us/sample - loss: 444.6539 - acc: 0.0000e+00\n",
            "Epoch 88/150\n",
            "404/404 [==============================] - 0s 48us/sample - loss: 443.4160 - acc: 0.0000e+00\n",
            "Epoch 89/150\n",
            "404/404 [==============================] - 0s 49us/sample - loss: 442.1951 - acc: 0.0000e+00\n",
            "Epoch 90/150\n",
            "404/404 [==============================] - 0s 44us/sample - loss: 440.9789 - acc: 0.0000e+00\n",
            "Epoch 91/150\n",
            "404/404 [==============================] - 0s 44us/sample - loss: 439.7674 - acc: 0.0000e+00\n",
            "Epoch 92/150\n",
            "404/404 [==============================] - 0s 45us/sample - loss: 438.5399 - acc: 0.0000e+00\n",
            "Epoch 93/150\n",
            "404/404 [==============================] - 0s 47us/sample - loss: 437.3419 - acc: 0.0000e+00\n",
            "Epoch 94/150\n",
            "404/404 [==============================] - 0s 50us/sample - loss: 436.1230 - acc: 0.0000e+00\n",
            "Epoch 95/150\n",
            "404/404 [==============================] - 0s 44us/sample - loss: 434.9281 - acc: 0.0000e+00\n",
            "Epoch 96/150\n",
            "404/404 [==============================] - 0s 49us/sample - loss: 433.7136 - acc: 0.0000e+00\n",
            "Epoch 97/150\n",
            "404/404 [==============================] - 0s 42us/sample - loss: 432.5121 - acc: 0.0000e+00\n",
            "Epoch 98/150\n",
            "404/404 [==============================] - 0s 48us/sample - loss: 431.3288 - acc: 0.0000e+00\n",
            "Epoch 99/150\n",
            "404/404 [==============================] - 0s 47us/sample - loss: 430.1249 - acc: 0.0000e+00\n",
            "Epoch 100/150\n",
            "404/404 [==============================] - 0s 52us/sample - loss: 428.9326 - acc: 0.0000e+00\n",
            "Epoch 101/150\n",
            "404/404 [==============================] - 0s 49us/sample - loss: 427.7418 - acc: 0.0000e+00\n",
            "Epoch 102/150\n",
            "404/404 [==============================] - 0s 50us/sample - loss: 426.5546 - acc: 0.0000e+00\n",
            "Epoch 103/150\n",
            "404/404 [==============================] - 0s 52us/sample - loss: 425.3685 - acc: 0.0000e+00\n",
            "Epoch 104/150\n",
            "404/404 [==============================] - 0s 52us/sample - loss: 424.1853 - acc: 0.0000e+00\n",
            "Epoch 105/150\n",
            "404/404 [==============================] - 0s 54us/sample - loss: 423.0044 - acc: 0.0000e+00\n",
            "Epoch 106/150\n",
            "404/404 [==============================] - 0s 46us/sample - loss: 421.8251 - acc: 0.0000e+00\n",
            "Epoch 107/150\n",
            "404/404 [==============================] - 0s 48us/sample - loss: 420.6677 - acc: 0.0000e+00\n",
            "Epoch 108/150\n",
            "404/404 [==============================] - 0s 48us/sample - loss: 419.4791 - acc: 0.0000e+00\n",
            "Epoch 109/150\n",
            "404/404 [==============================] - 0s 43us/sample - loss: 418.3169 - acc: 0.0000e+00\n",
            "Epoch 110/150\n",
            "404/404 [==============================] - 0s 57us/sample - loss: 417.1483 - acc: 0.0000e+00\n",
            "Epoch 111/150\n",
            "404/404 [==============================] - 0s 50us/sample - loss: 415.9765 - acc: 0.0000e+00\n",
            "Epoch 112/150\n",
            "404/404 [==============================] - 0s 46us/sample - loss: 414.8282 - acc: 0.0000e+00\n",
            "Epoch 113/150\n",
            "404/404 [==============================] - 0s 46us/sample - loss: 413.6683 - acc: 0.0000e+00\n",
            "Epoch 114/150\n",
            "404/404 [==============================] - 0s 48us/sample - loss: 412.5210 - acc: 0.0000e+00\n",
            "Epoch 115/150\n",
            "404/404 [==============================] - 0s 55us/sample - loss: 411.3760 - acc: 0.0000e+00\n",
            "Epoch 116/150\n",
            "404/404 [==============================] - 0s 51us/sample - loss: 410.2299 - acc: 0.0000e+00\n",
            "Epoch 117/150\n",
            "404/404 [==============================] - 0s 53us/sample - loss: 409.0736 - acc: 0.0000e+00\n",
            "Epoch 118/150\n",
            "404/404 [==============================] - 0s 50us/sample - loss: 407.9420 - acc: 0.0000e+00\n",
            "Epoch 119/150\n",
            "404/404 [==============================] - 0s 52us/sample - loss: 406.8072 - acc: 0.0000e+00\n",
            "Epoch 120/150\n",
            "404/404 [==============================] - 0s 52us/sample - loss: 405.6625 - acc: 0.0000e+00\n",
            "Epoch 121/150\n",
            "404/404 [==============================] - 0s 52us/sample - loss: 404.5269 - acc: 0.0000e+00\n",
            "Epoch 122/150\n",
            "404/404 [==============================] - 0s 54us/sample - loss: 403.3971 - acc: 0.0000e+00\n",
            "Epoch 123/150\n",
            "404/404 [==============================] - 0s 48us/sample - loss: 402.2569 - acc: 0.0000e+00\n",
            "Epoch 124/150\n",
            "404/404 [==============================] - 0s 45us/sample - loss: 401.1247 - acc: 0.0000e+00\n",
            "Epoch 125/150\n",
            "404/404 [==============================] - 0s 50us/sample - loss: 400.0003 - acc: 0.0000e+00\n",
            "Epoch 126/150\n",
            "404/404 [==============================] - 0s 48us/sample - loss: 398.8808 - acc: 0.0000e+00\n",
            "Epoch 127/150\n",
            "404/404 [==============================] - 0s 53us/sample - loss: 397.7533 - acc: 0.0000e+00\n",
            "Epoch 128/150\n",
            "404/404 [==============================] - 0s 58us/sample - loss: 396.6330 - acc: 0.0000e+00\n",
            "Epoch 129/150\n",
            "404/404 [==============================] - 0s 46us/sample - loss: 395.5197 - acc: 0.0000e+00\n",
            "Epoch 130/150\n",
            "404/404 [==============================] - 0s 59us/sample - loss: 394.4018 - acc: 0.0000e+00\n",
            "Epoch 131/150\n",
            "404/404 [==============================] - 0s 55us/sample - loss: 393.2918 - acc: 0.0000e+00\n",
            "Epoch 132/150\n",
            "404/404 [==============================] - 0s 52us/sample - loss: 392.1975 - acc: 0.0000e+00\n",
            "Epoch 133/150\n",
            "404/404 [==============================] - 0s 47us/sample - loss: 391.0867 - acc: 0.0000e+00\n",
            "Epoch 134/150\n",
            "404/404 [==============================] - 0s 53us/sample - loss: 389.9754 - acc: 0.0000e+00\n",
            "Epoch 135/150\n",
            "404/404 [==============================] - 0s 57us/sample - loss: 388.8799 - acc: 0.0000e+00\n",
            "Epoch 136/150\n",
            "404/404 [==============================] - 0s 53us/sample - loss: 387.7868 - acc: 0.0000e+00\n",
            "Epoch 137/150\n",
            "404/404 [==============================] - 0s 48us/sample - loss: 386.6793 - acc: 0.0000e+00\n",
            "Epoch 138/150\n",
            "404/404 [==============================] - 0s 45us/sample - loss: 385.6008 - acc: 0.0000e+00\n",
            "Epoch 139/150\n",
            "404/404 [==============================] - 0s 45us/sample - loss: 384.5081 - acc: 0.0000e+00\n",
            "Epoch 140/150\n",
            "404/404 [==============================] - 0s 51us/sample - loss: 383.4184 - acc: 0.0000e+00\n",
            "Epoch 141/150\n",
            "404/404 [==============================] - 0s 55us/sample - loss: 382.3288 - acc: 0.0000e+00\n",
            "Epoch 142/150\n",
            "404/404 [==============================] - 0s 54us/sample - loss: 381.2509 - acc: 0.0000e+00\n",
            "Epoch 143/150\n",
            "404/404 [==============================] - 0s 45us/sample - loss: 380.1623 - acc: 0.0000e+00\n",
            "Epoch 144/150\n",
            "404/404 [==============================] - 0s 51us/sample - loss: 379.0879 - acc: 0.0000e+00\n",
            "Epoch 145/150\n",
            "404/404 [==============================] - 0s 44us/sample - loss: 378.0065 - acc: 0.0000e+00\n",
            "Epoch 146/150\n",
            "404/404 [==============================] - 0s 54us/sample - loss: 376.9372 - acc: 0.0000e+00\n",
            "Epoch 147/150\n",
            "404/404 [==============================] - 0s 47us/sample - loss: 375.8637 - acc: 0.0000e+00\n",
            "Epoch 148/150\n",
            "404/404 [==============================] - 0s 59us/sample - loss: 374.8001 - acc: 0.0000e+00\n",
            "Epoch 149/150\n",
            "404/404 [==============================] - 0s 51us/sample - loss: 373.7304 - acc: 0.0000e+00\n",
            "Epoch 150/150\n",
            "404/404 [==============================] - 0s 48us/sample - loss: 372.6755 - acc: 0.0000e+00\n"
          ],
          "name": "stdout"
        },
        {
          "output_type": "execute_result",
          "data": {
            "text/plain": [
              "<tensorflow.python.keras.callbacks.History at 0x7f650c933898>"
            ]
          },
          "metadata": {
            "tags": []
          },
          "execution_count": 653
        }
      ]
    },
    {
      "cell_type": "code",
      "metadata": {
        "id": "T7NxkCEwPikn",
        "colab_type": "code",
        "colab": {}
      },
      "source": [
        "y_true = y_test.tolist()\n",
        "preds = model.predict(X_test).tolist()\n",
        "data = pd.DataFrame(data={'preds': preds, 'y_true': y_true})"
      ],
      "execution_count": 0,
      "outputs": []
    },
    {
      "cell_type": "code",
      "metadata": {
        "id": "pGizvCC4VSUa",
        "colab_type": "code",
        "colab": {}
      },
      "source": [
        "data['preds'] = data['preds'].apply(lambda x: x[0])"
      ],
      "execution_count": 0,
      "outputs": []
    },
    {
      "cell_type": "code",
      "metadata": {
        "id": "ZG80QgHdVPvu",
        "colab_type": "code",
        "colab": {
          "base_uri": "https://localhost:8080/",
          "height": 204
        },
        "outputId": "68999405-d9c4-4f7c-9725-ab9c6cd7738a"
      },
      "source": [
        "data.head()"
      ],
      "execution_count": 656,
      "outputs": [
        {
          "output_type": "execute_result",
          "data": {
            "text/html": [
              "<div>\n",
              "<style scoped>\n",
              "    .dataframe tbody tr th:only-of-type {\n",
              "        vertical-align: middle;\n",
              "    }\n",
              "\n",
              "    .dataframe tbody tr th {\n",
              "        vertical-align: top;\n",
              "    }\n",
              "\n",
              "    .dataframe thead th {\n",
              "        text-align: right;\n",
              "    }\n",
              "</style>\n",
              "<table border=\"1\" class=\"dataframe\">\n",
              "  <thead>\n",
              "    <tr style=\"text-align: right;\">\n",
              "      <th></th>\n",
              "      <th>preds</th>\n",
              "      <th>y_true</th>\n",
              "    </tr>\n",
              "  </thead>\n",
              "  <tbody>\n",
              "    <tr>\n",
              "      <th>0</th>\n",
              "      <td>5.388005</td>\n",
              "      <td>18.4</td>\n",
              "    </tr>\n",
              "    <tr>\n",
              "      <th>1</th>\n",
              "      <td>5.434166</td>\n",
              "      <td>32.2</td>\n",
              "    </tr>\n",
              "    <tr>\n",
              "      <th>2</th>\n",
              "      <td>5.129980</td>\n",
              "      <td>17.8</td>\n",
              "    </tr>\n",
              "    <tr>\n",
              "      <th>3</th>\n",
              "      <td>5.460227</td>\n",
              "      <td>24.7</td>\n",
              "    </tr>\n",
              "    <tr>\n",
              "      <th>4</th>\n",
              "      <td>5.190343</td>\n",
              "      <td>36.2</td>\n",
              "    </tr>\n",
              "  </tbody>\n",
              "</table>\n",
              "</div>"
            ],
            "text/plain": [
              "      preds  y_true\n",
              "0  5.388005    18.4\n",
              "1  5.434166    32.2\n",
              "2  5.129980    17.8\n",
              "3  5.460227    24.7\n",
              "4  5.190343    36.2"
            ]
          },
          "metadata": {
            "tags": []
          },
          "execution_count": 656
        }
      ]
    },
    {
      "cell_type": "code",
      "metadata": {
        "id": "LDwe8fAPQbN_",
        "colab_type": "code",
        "colab": {}
      },
      "source": [
        "data['diff'] = data['y_true'] - data['preds']"
      ],
      "execution_count": 0,
      "outputs": []
    },
    {
      "cell_type": "code",
      "metadata": {
        "id": "4HRbPjExVk2d",
        "colab_type": "code",
        "colab": {
          "base_uri": "https://localhost:8080/",
          "height": 204
        },
        "outputId": "6d0a6bdf-af64-40a7-f20c-be7dea7ecdb1"
      },
      "source": [
        "data.head()"
      ],
      "execution_count": 658,
      "outputs": [
        {
          "output_type": "execute_result",
          "data": {
            "text/html": [
              "<div>\n",
              "<style scoped>\n",
              "    .dataframe tbody tr th:only-of-type {\n",
              "        vertical-align: middle;\n",
              "    }\n",
              "\n",
              "    .dataframe tbody tr th {\n",
              "        vertical-align: top;\n",
              "    }\n",
              "\n",
              "    .dataframe thead th {\n",
              "        text-align: right;\n",
              "    }\n",
              "</style>\n",
              "<table border=\"1\" class=\"dataframe\">\n",
              "  <thead>\n",
              "    <tr style=\"text-align: right;\">\n",
              "      <th></th>\n",
              "      <th>preds</th>\n",
              "      <th>y_true</th>\n",
              "      <th>diff</th>\n",
              "    </tr>\n",
              "  </thead>\n",
              "  <tbody>\n",
              "    <tr>\n",
              "      <th>0</th>\n",
              "      <td>5.388005</td>\n",
              "      <td>18.4</td>\n",
              "      <td>13.011995</td>\n",
              "    </tr>\n",
              "    <tr>\n",
              "      <th>1</th>\n",
              "      <td>5.434166</td>\n",
              "      <td>32.2</td>\n",
              "      <td>26.765834</td>\n",
              "    </tr>\n",
              "    <tr>\n",
              "      <th>2</th>\n",
              "      <td>5.129980</td>\n",
              "      <td>17.8</td>\n",
              "      <td>12.670020</td>\n",
              "    </tr>\n",
              "    <tr>\n",
              "      <th>3</th>\n",
              "      <td>5.460227</td>\n",
              "      <td>24.7</td>\n",
              "      <td>19.239773</td>\n",
              "    </tr>\n",
              "    <tr>\n",
              "      <th>4</th>\n",
              "      <td>5.190343</td>\n",
              "      <td>36.2</td>\n",
              "      <td>31.009657</td>\n",
              "    </tr>\n",
              "  </tbody>\n",
              "</table>\n",
              "</div>"
            ],
            "text/plain": [
              "      preds  y_true       diff\n",
              "0  5.388005    18.4  13.011995\n",
              "1  5.434166    32.2  26.765834\n",
              "2  5.129980    17.8  12.670020\n",
              "3  5.460227    24.7  19.239773\n",
              "4  5.190343    36.2  31.009657"
            ]
          },
          "metadata": {
            "tags": []
          },
          "execution_count": 658
        }
      ]
    },
    {
      "cell_type": "code",
      "metadata": {
        "id": "4SFY3pXSiII-",
        "colab_type": "code",
        "colab": {}
      },
      "source": [
        "preds = model.predict(X_test)"
      ],
      "execution_count": 0,
      "outputs": []
    },
    {
      "cell_type": "code",
      "metadata": {
        "id": "i7_0zQqqV7Br",
        "colab_type": "code",
        "colab": {
          "base_uri": "https://localhost:8080/",
          "height": 34
        },
        "outputId": "13a379a6-610b-4942-eee7-70656b2f472c"
      },
      "source": [
        "mean_squared_error(preds, y_test)"
      ],
      "execution_count": 660,
      "outputs": [
        {
          "output_type": "execute_result",
          "data": {
            "text/plain": [
              "428.0206048497336"
            ]
          },
          "metadata": {
            "tags": []
          },
          "execution_count": 660
        }
      ]
    },
    {
      "cell_type": "code",
      "metadata": {
        "id": "6UEsqG75hE-m",
        "colab_type": "code",
        "colab": {}
      },
      "source": [
        "from sklearn.linear_model import LinearRegression"
      ],
      "execution_count": 0,
      "outputs": []
    },
    {
      "cell_type": "code",
      "metadata": {
        "id": "Gh4i7yLuhjWr",
        "colab_type": "code",
        "colab": {}
      },
      "source": [
        "linear_model = LinearRegression()\n",
        "linear_model.fit(X_train, y_train)\n",
        "linear_preds = other_model.predict(X_test)"
      ],
      "execution_count": 0,
      "outputs": []
    },
    {
      "cell_type": "code",
      "metadata": {
        "id": "bgBf92sXhtfd",
        "colab_type": "code",
        "colab": {
          "base_uri": "https://localhost:8080/",
          "height": 34
        },
        "outputId": "8d134ad5-e1d9-4ae2-92f4-1ea3f91516c4"
      },
      "source": [
        "mean_squared_error(linear_preds, y_test)"
      ],
      "execution_count": 663,
      "outputs": [
        {
          "output_type": "execute_result",
          "data": {
            "text/plain": [
              "378.07625628449273"
            ]
          },
          "metadata": {
            "tags": []
          },
          "execution_count": 663
        }
      ]
    },
    {
      "cell_type": "markdown",
      "metadata": {
        "colab_type": "text",
        "id": "SfcFnOONyuNm"
      },
      "source": [
        "## Use the Keras Library to build an image recognition network using the Fashion-MNIST dataset (also comes with keras)\n",
        "\n",
        "- Load and preprocess the image data similar to how we preprocessed the MNIST data in class.\n",
        "- Make sure to one-hot encode your category labels\n",
        "- Make sure to have your final layer have as many nodes as the number of classes that you want to predict.\n",
        "- Try different hyperparameters. What is the highest accuracy that you are able to achieve.\n",
        "- Use the history object that is returned from model.fit to make graphs of the model's loss or train/validation accuracies by epoch. \n",
        "- Remember that neural networks fall prey to randomness so you may need to run your model multiple times (or use Cross Validation) in order to tell if a change to a hyperparameter is truly producing better results."
      ]
    },
    {
      "cell_type": "code",
      "metadata": {
        "colab_type": "code",
        "id": "szi6-IpuzaH1",
        "colab": {}
      },
      "source": [
        "from keras.datasets import fashion_mnist\n",
        "import keras\n",
        "\n",
        "train, test = fashion_mnist.load_data()"
      ],
      "execution_count": 0,
      "outputs": []
    },
    {
      "cell_type": "code",
      "metadata": {
        "id": "iFhaTi1yxnkE",
        "colab_type": "code",
        "colab": {}
      },
      "source": [
        "epochs = 20\n",
        "batch_size =64\n",
        "num_classes = 10"
      ],
      "execution_count": 0,
      "outputs": []
    },
    {
      "cell_type": "code",
      "metadata": {
        "id": "YYURAVpEjRuG",
        "colab_type": "code",
        "colab": {}
      },
      "source": [
        "X_train = train[0]\n",
        "y_train = train[1]\n",
        "X_test = test[0]\n",
        "y_test = test[1]"
      ],
      "execution_count": 0,
      "outputs": []
    },
    {
      "cell_type": "code",
      "metadata": {
        "id": "h5yp9mk0qGHu",
        "colab_type": "code",
        "colab": {}
      },
      "source": [
        "X_train = X_train.reshape(60000, 784)\n",
        "X_test = X_test.reshape(10000, 784)"
      ],
      "execution_count": 0,
      "outputs": []
    },
    {
      "cell_type": "code",
      "metadata": {
        "id": "Rw9SE0VHxRVT",
        "colab_type": "code",
        "colab": {}
      },
      "source": [
        "y_train = keras.utils.to_categorical(y_train, num_classes)\n",
        "y_test = keras.utils.to_categorical(y_test, num_classes)"
      ],
      "execution_count": 0,
      "outputs": []
    },
    {
      "cell_type": "code",
      "metadata": {
        "id": "peX_niZGjeE_",
        "colab_type": "code",
        "colab": {
          "base_uri": "https://localhost:8080/",
          "height": 714
        },
        "outputId": "4d629986-2b85-4869-ab33-d0604d676e71"
      },
      "source": [
        "model = Sequential()\n",
        "# Input layer\n",
        "model.add(Dense(16, input_dim=784, activation='relu'))\n",
        "model.add(Dense(4, activation='relu'))\n",
        "model.add(Dense(10, input_dim=784, activation='softmax'))\n",
        "\n",
        "model.compile(loss='categorical_crossentropy', optimizer='adam', metrics=['accuracy'])\n",
        "model.fit(X_train, y_train, epochs=epochs)"
      ],
      "execution_count": 669,
      "outputs": [
        {
          "output_type": "stream",
          "text": [
            "Epoch 1/20\n",
            "60000/60000 [==============================] - 3s 58us/sample - loss: 2.0745 - acc: 0.1913\n",
            "Epoch 2/20\n",
            "60000/60000 [==============================] - 3s 53us/sample - loss: 1.8508 - acc: 0.2197\n",
            "Epoch 3/20\n",
            "60000/60000 [==============================] - 3s 55us/sample - loss: 1.7521 - acc: 0.2461\n",
            "Epoch 4/20\n",
            "60000/60000 [==============================] - 3s 53us/sample - loss: 1.7228 - acc: 0.2591\n",
            "Epoch 5/20\n",
            "60000/60000 [==============================] - 3s 55us/sample - loss: 1.6801 - acc: 0.2673\n",
            "Epoch 6/20\n",
            "60000/60000 [==============================] - 3s 53us/sample - loss: 1.6506 - acc: 0.2880\n",
            "Epoch 7/20\n",
            "60000/60000 [==============================] - 3s 53us/sample - loss: 1.6082 - acc: 0.3195\n",
            "Epoch 8/20\n",
            "60000/60000 [==============================] - 3s 54us/sample - loss: 1.5838 - acc: 0.3405\n",
            "Epoch 9/20\n",
            "60000/60000 [==============================] - 3s 54us/sample - loss: 1.5670 - acc: 0.3482\n",
            "Epoch 10/20\n",
            "60000/60000 [==============================] - 3s 56us/sample - loss: 1.5469 - acc: 0.3563\n",
            "Epoch 11/20\n",
            "60000/60000 [==============================] - 3s 53us/sample - loss: 1.5310 - acc: 0.3576\n",
            "Epoch 12/20\n",
            "60000/60000 [==============================] - 3s 52us/sample - loss: 1.5220 - acc: 0.3621\n",
            "Epoch 13/20\n",
            "60000/60000 [==============================] - 3s 52us/sample - loss: 1.5137 - acc: 0.3637\n",
            "Epoch 14/20\n",
            "60000/60000 [==============================] - 3s 53us/sample - loss: 1.5115 - acc: 0.3649\n",
            "Epoch 15/20\n",
            "60000/60000 [==============================] - 3s 54us/sample - loss: 1.4154 - acc: 0.4285\n",
            "Epoch 16/20\n",
            "60000/60000 [==============================] - 3s 52us/sample - loss: 1.3126 - acc: 0.4581\n",
            "Epoch 17/20\n",
            "60000/60000 [==============================] - 3s 55us/sample - loss: 1.3021 - acc: 0.4554\n",
            "Epoch 18/20\n",
            "60000/60000 [==============================] - 3s 55us/sample - loss: 1.2895 - acc: 0.4586\n",
            "Epoch 19/20\n",
            "60000/60000 [==============================] - 3s 54us/sample - loss: 1.2766 - acc: 0.4599\n",
            "Epoch 20/20\n",
            "60000/60000 [==============================] - 3s 53us/sample - loss: 1.2829 - acc: 0.4614\n"
          ],
          "name": "stdout"
        },
        {
          "output_type": "execute_result",
          "data": {
            "text/plain": [
              "<tensorflow.python.keras.callbacks.History at 0x7f6509cfd390>"
            ]
          },
          "metadata": {
            "tags": []
          },
          "execution_count": 669
        }
      ]
    },
    {
      "cell_type": "code",
      "metadata": {
        "id": "NqZDT7VfzMxg",
        "colab_type": "code",
        "colab": {
          "base_uri": "https://localhost:8080/",
          "height": 170
        },
        "outputId": "1c9aacd4-3766-4f00-a7c1-1a55cb59c84b"
      },
      "source": [
        "import matplotlib.pyplot as plt\n",
        "\n",
        "history = model.fit(X_train, y_train, validation_split=0.25, epochs=20, batch_size=16, verbose=1)\n",
        "\n",
        "# Plot training & validation accuracy values\n",
        "plt.plot(history.history['acc'])\n",
        "plt.plot(history.history['val_acc'])\n",
        "plt.title('Model accuracy')\n",
        "plt.ylabel('Accuracy')\n",
        "plt.xlabel('Epoch')\n",
        "plt.legend(['Train', 'Test'], loc='upper left')\n",
        "plt.show()\n",
        "\n",
        "# Plot training & validation loss values\n",
        "plt.plot(history.history['loss'])\n",
        "plt.plot(history.history['val_loss'])\n",
        "plt.title('Model loss')\n",
        "plt.ylabel('Loss')\n",
        "plt.xlabel('Epoch')\n",
        "plt.legend(['Train', 'Test'], loc='upper left')\n",
        "plt.show()"
      ],
      "execution_count": 0,
      "outputs": [
        {
          "output_type": "stream",
          "text": [
            "Train on 45000 samples, validate on 15000 samples\n",
            "Epoch 1/20\n",
            "45000/45000 [==============================] - 6s 137us/sample - loss: 1.2690 - acc: 0.4590 - val_loss: 1.2754 - val_acc: 0.4717\n",
            "Epoch 2/20\n",
            "45000/45000 [==============================] - 6s 131us/sample - loss: 1.2678 - acc: 0.4580 - val_loss: 1.2755 - val_acc: 0.4613\n",
            "Epoch 3/20\n",
            "45000/45000 [==============================] - 6s 132us/sample - loss: 1.2660 - acc: 0.4581 - val_loss: 1.2784 - val_acc: 0.4557\n",
            "Epoch 4/20\n",
            "44592/45000 [============================>.] - ETA: 0s - loss: 1.2609 - acc: 0.4615"
          ],
          "name": "stdout"
        }
      ]
    },
    {
      "cell_type": "markdown",
      "metadata": {
        "colab_type": "text",
        "id": "zv_3xNMjzdLI"
      },
      "source": [
        "## Stretch Goals:\n",
        "\n",
        "- Use Hyperparameter Tuning to make the accuracy of your models as high as possible. (error as low as possible)\n",
        "- Use Cross Validation techniques to get more consistent results with your model.\n",
        "- Use GridSearchCV to try different combinations of hyperparameters. \n",
        "- Start looking into other types of Keras layers for CNNs and RNNs maybe try and build a CNN model for fashion-MNIST to see how the results compare."
      ]
    }
  ]
}